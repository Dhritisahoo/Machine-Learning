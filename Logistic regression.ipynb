{
 "cells": [
  {
   "cell_type": "markdown",
   "metadata": {
    "id": "7ywSRtNI4s5h"
   },
   "source": [
    "# 1.) Import the Credit Card Fraud Data From CCLE"
   ]
  },
  {
   "cell_type": "code",
   "execution_count": 1,
   "metadata": {
    "id": "nsG1QV154GYZ"
   },
   "outputs": [],
   "source": [
    "import pandas as pd\n",
    "import matplotlib.pyplot as plt\n",
    "import numpy as np\n",
    "from sklearn.metrics import f1_score\n",
    "import warnings \n",
    "warnings.filterwarnings(\"ignore\")"
   ]
  },
  {
   "cell_type": "code",
   "execution_count": 2,
   "metadata": {
    "id": "KJQfo8mz43Kz"
   },
   "outputs": [
    {
     "data": {
      "text/html": [
       "<div>\n",
       "<style scoped>\n",
       "    .dataframe tbody tr th:only-of-type {\n",
       "        vertical-align: middle;\n",
       "    }\n",
       "\n",
       "    .dataframe tbody tr th {\n",
       "        vertical-align: top;\n",
       "    }\n",
       "\n",
       "    .dataframe thead th {\n",
       "        text-align: right;\n",
       "    }\n",
       "</style>\n",
       "<table border=\"1\" class=\"dataframe\">\n",
       "  <thead>\n",
       "    <tr style=\"text-align: right;\">\n",
       "      <th></th>\n",
       "      <th>Unnamed: 0</th>\n",
       "      <th>trans_date_trans_time</th>\n",
       "      <th>cc_num</th>\n",
       "      <th>merchant</th>\n",
       "      <th>category</th>\n",
       "      <th>amt</th>\n",
       "      <th>first</th>\n",
       "      <th>last</th>\n",
       "      <th>gender</th>\n",
       "      <th>street</th>\n",
       "      <th>...</th>\n",
       "      <th>lat</th>\n",
       "      <th>long</th>\n",
       "      <th>city_pop</th>\n",
       "      <th>job</th>\n",
       "      <th>dob</th>\n",
       "      <th>trans_num</th>\n",
       "      <th>unix_time</th>\n",
       "      <th>merch_lat</th>\n",
       "      <th>merch_long</th>\n",
       "      <th>is_fraud</th>\n",
       "    </tr>\n",
       "  </thead>\n",
       "  <tbody>\n",
       "    <tr>\n",
       "      <th>0</th>\n",
       "      <td>0</td>\n",
       "      <td>2020-06-21 12:14:25</td>\n",
       "      <td>2291163933867244</td>\n",
       "      <td>fraud_Kirlin and Sons</td>\n",
       "      <td>personal_care</td>\n",
       "      <td>2.86</td>\n",
       "      <td>Jeff</td>\n",
       "      <td>Elliott</td>\n",
       "      <td>M</td>\n",
       "      <td>351 Darlene Green</td>\n",
       "      <td>...</td>\n",
       "      <td>33.9659</td>\n",
       "      <td>-80.9355</td>\n",
       "      <td>333497</td>\n",
       "      <td>Mechanical engineer</td>\n",
       "      <td>1968-03-19</td>\n",
       "      <td>2da90c7d74bd46a0caf3777415b3ebd3</td>\n",
       "      <td>1371816865</td>\n",
       "      <td>33.986391</td>\n",
       "      <td>-81.200714</td>\n",
       "      <td>0</td>\n",
       "    </tr>\n",
       "    <tr>\n",
       "      <th>1</th>\n",
       "      <td>1</td>\n",
       "      <td>2020-06-21 12:14:33</td>\n",
       "      <td>3573030041201292</td>\n",
       "      <td>fraud_Sporer-Keebler</td>\n",
       "      <td>personal_care</td>\n",
       "      <td>29.84</td>\n",
       "      <td>Joanne</td>\n",
       "      <td>Williams</td>\n",
       "      <td>F</td>\n",
       "      <td>3638 Marsh Union</td>\n",
       "      <td>...</td>\n",
       "      <td>40.3207</td>\n",
       "      <td>-110.4360</td>\n",
       "      <td>302</td>\n",
       "      <td>Sales professional, IT</td>\n",
       "      <td>1990-01-17</td>\n",
       "      <td>324cc204407e99f51b0d6ca0055005e7</td>\n",
       "      <td>1371816873</td>\n",
       "      <td>39.450498</td>\n",
       "      <td>-109.960431</td>\n",
       "      <td>0</td>\n",
       "    </tr>\n",
       "    <tr>\n",
       "      <th>2</th>\n",
       "      <td>2</td>\n",
       "      <td>2020-06-21 12:14:53</td>\n",
       "      <td>3598215285024754</td>\n",
       "      <td>fraud_Swaniawski, Nitzsche and Welch</td>\n",
       "      <td>health_fitness</td>\n",
       "      <td>41.28</td>\n",
       "      <td>Ashley</td>\n",
       "      <td>Lopez</td>\n",
       "      <td>F</td>\n",
       "      <td>9333 Valentine Point</td>\n",
       "      <td>...</td>\n",
       "      <td>40.6729</td>\n",
       "      <td>-73.5365</td>\n",
       "      <td>34496</td>\n",
       "      <td>Librarian, public</td>\n",
       "      <td>1970-10-21</td>\n",
       "      <td>c81755dbbbea9d5c77f094348a7579be</td>\n",
       "      <td>1371816893</td>\n",
       "      <td>40.495810</td>\n",
       "      <td>-74.196111</td>\n",
       "      <td>0</td>\n",
       "    </tr>\n",
       "    <tr>\n",
       "      <th>3</th>\n",
       "      <td>3</td>\n",
       "      <td>2020-06-21 12:15:15</td>\n",
       "      <td>3591919803438423</td>\n",
       "      <td>fraud_Haley Group</td>\n",
       "      <td>misc_pos</td>\n",
       "      <td>60.05</td>\n",
       "      <td>Brian</td>\n",
       "      <td>Williams</td>\n",
       "      <td>M</td>\n",
       "      <td>32941 Krystal Mill Apt. 552</td>\n",
       "      <td>...</td>\n",
       "      <td>28.5697</td>\n",
       "      <td>-80.8191</td>\n",
       "      <td>54767</td>\n",
       "      <td>Set designer</td>\n",
       "      <td>1987-07-25</td>\n",
       "      <td>2159175b9efe66dc301f149d3d5abf8c</td>\n",
       "      <td>1371816915</td>\n",
       "      <td>28.812398</td>\n",
       "      <td>-80.883061</td>\n",
       "      <td>0</td>\n",
       "    </tr>\n",
       "    <tr>\n",
       "      <th>4</th>\n",
       "      <td>4</td>\n",
       "      <td>2020-06-21 12:15:17</td>\n",
       "      <td>3526826139003047</td>\n",
       "      <td>fraud_Johnston-Casper</td>\n",
       "      <td>travel</td>\n",
       "      <td>3.19</td>\n",
       "      <td>Nathan</td>\n",
       "      <td>Massey</td>\n",
       "      <td>M</td>\n",
       "      <td>5783 Evan Roads Apt. 465</td>\n",
       "      <td>...</td>\n",
       "      <td>44.2529</td>\n",
       "      <td>-85.0170</td>\n",
       "      <td>1126</td>\n",
       "      <td>Furniture designer</td>\n",
       "      <td>1955-07-06</td>\n",
       "      <td>57ff021bd3f328f8738bb535c302a31b</td>\n",
       "      <td>1371816917</td>\n",
       "      <td>44.959148</td>\n",
       "      <td>-85.884734</td>\n",
       "      <td>0</td>\n",
       "    </tr>\n",
       "    <tr>\n",
       "      <th>...</th>\n",
       "      <td>...</td>\n",
       "      <td>...</td>\n",
       "      <td>...</td>\n",
       "      <td>...</td>\n",
       "      <td>...</td>\n",
       "      <td>...</td>\n",
       "      <td>...</td>\n",
       "      <td>...</td>\n",
       "      <td>...</td>\n",
       "      <td>...</td>\n",
       "      <td>...</td>\n",
       "      <td>...</td>\n",
       "      <td>...</td>\n",
       "      <td>...</td>\n",
       "      <td>...</td>\n",
       "      <td>...</td>\n",
       "      <td>...</td>\n",
       "      <td>...</td>\n",
       "      <td>...</td>\n",
       "      <td>...</td>\n",
       "      <td>...</td>\n",
       "    </tr>\n",
       "    <tr>\n",
       "      <th>555714</th>\n",
       "      <td>555714</td>\n",
       "      <td>2020-12-31 23:59:07</td>\n",
       "      <td>30560609640617</td>\n",
       "      <td>fraud_Reilly and Sons</td>\n",
       "      <td>health_fitness</td>\n",
       "      <td>43.77</td>\n",
       "      <td>Michael</td>\n",
       "      <td>Olson</td>\n",
       "      <td>M</td>\n",
       "      <td>558 Michael Estates</td>\n",
       "      <td>...</td>\n",
       "      <td>40.4931</td>\n",
       "      <td>-91.8912</td>\n",
       "      <td>519</td>\n",
       "      <td>Town planner</td>\n",
       "      <td>1966-02-13</td>\n",
       "      <td>9b1f753c79894c9f4b71f04581835ada</td>\n",
       "      <td>1388534347</td>\n",
       "      <td>39.946837</td>\n",
       "      <td>-91.333331</td>\n",
       "      <td>0</td>\n",
       "    </tr>\n",
       "    <tr>\n",
       "      <th>555715</th>\n",
       "      <td>555715</td>\n",
       "      <td>2020-12-31 23:59:09</td>\n",
       "      <td>3556613125071656</td>\n",
       "      <td>fraud_Hoppe-Parisian</td>\n",
       "      <td>kids_pets</td>\n",
       "      <td>111.84</td>\n",
       "      <td>Jose</td>\n",
       "      <td>Vasquez</td>\n",
       "      <td>M</td>\n",
       "      <td>572 Davis Mountains</td>\n",
       "      <td>...</td>\n",
       "      <td>29.0393</td>\n",
       "      <td>-95.4401</td>\n",
       "      <td>28739</td>\n",
       "      <td>Futures trader</td>\n",
       "      <td>1999-12-27</td>\n",
       "      <td>2090647dac2c89a1d86c514c427f5b91</td>\n",
       "      <td>1388534349</td>\n",
       "      <td>29.661049</td>\n",
       "      <td>-96.186633</td>\n",
       "      <td>0</td>\n",
       "    </tr>\n",
       "    <tr>\n",
       "      <th>555716</th>\n",
       "      <td>555716</td>\n",
       "      <td>2020-12-31 23:59:15</td>\n",
       "      <td>6011724471098086</td>\n",
       "      <td>fraud_Rau-Robel</td>\n",
       "      <td>kids_pets</td>\n",
       "      <td>86.88</td>\n",
       "      <td>Ann</td>\n",
       "      <td>Lawson</td>\n",
       "      <td>F</td>\n",
       "      <td>144 Evans Islands Apt. 683</td>\n",
       "      <td>...</td>\n",
       "      <td>46.1966</td>\n",
       "      <td>-118.9017</td>\n",
       "      <td>3684</td>\n",
       "      <td>Musician</td>\n",
       "      <td>1981-11-29</td>\n",
       "      <td>6c5b7c8add471975aa0fec023b2e8408</td>\n",
       "      <td>1388534355</td>\n",
       "      <td>46.658340</td>\n",
       "      <td>-119.715054</td>\n",
       "      <td>0</td>\n",
       "    </tr>\n",
       "    <tr>\n",
       "      <th>555717</th>\n",
       "      <td>555717</td>\n",
       "      <td>2020-12-31 23:59:24</td>\n",
       "      <td>4079773899158</td>\n",
       "      <td>fraud_Breitenberg LLC</td>\n",
       "      <td>travel</td>\n",
       "      <td>7.99</td>\n",
       "      <td>Eric</td>\n",
       "      <td>Preston</td>\n",
       "      <td>M</td>\n",
       "      <td>7020 Doyle Stream Apt. 951</td>\n",
       "      <td>...</td>\n",
       "      <td>44.6255</td>\n",
       "      <td>-116.4493</td>\n",
       "      <td>129</td>\n",
       "      <td>Cartographer</td>\n",
       "      <td>1965-12-15</td>\n",
       "      <td>14392d723bb7737606b2700ac791b7aa</td>\n",
       "      <td>1388534364</td>\n",
       "      <td>44.470525</td>\n",
       "      <td>-117.080888</td>\n",
       "      <td>0</td>\n",
       "    </tr>\n",
       "    <tr>\n",
       "      <th>555718</th>\n",
       "      <td>555718</td>\n",
       "      <td>2020-12-31 23:59:34</td>\n",
       "      <td>4170689372027579</td>\n",
       "      <td>fraud_Dare-Marvin</td>\n",
       "      <td>entertainment</td>\n",
       "      <td>38.13</td>\n",
       "      <td>Samuel</td>\n",
       "      <td>Frey</td>\n",
       "      <td>M</td>\n",
       "      <td>830 Myers Plaza Apt. 384</td>\n",
       "      <td>...</td>\n",
       "      <td>35.6665</td>\n",
       "      <td>-97.4798</td>\n",
       "      <td>116001</td>\n",
       "      <td>Media buyer</td>\n",
       "      <td>1993-05-10</td>\n",
       "      <td>1765bb45b3aa3224b4cdcb6e7a96cee3</td>\n",
       "      <td>1388534374</td>\n",
       "      <td>36.210097</td>\n",
       "      <td>-97.036372</td>\n",
       "      <td>0</td>\n",
       "    </tr>\n",
       "  </tbody>\n",
       "</table>\n",
       "<p>555719 rows × 23 columns</p>\n",
       "</div>"
      ],
      "text/plain": [
       "        Unnamed: 0 trans_date_trans_time            cc_num  \\\n",
       "0                0   2020-06-21 12:14:25  2291163933867244   \n",
       "1                1   2020-06-21 12:14:33  3573030041201292   \n",
       "2                2   2020-06-21 12:14:53  3598215285024754   \n",
       "3                3   2020-06-21 12:15:15  3591919803438423   \n",
       "4                4   2020-06-21 12:15:17  3526826139003047   \n",
       "...            ...                   ...               ...   \n",
       "555714      555714   2020-12-31 23:59:07    30560609640617   \n",
       "555715      555715   2020-12-31 23:59:09  3556613125071656   \n",
       "555716      555716   2020-12-31 23:59:15  6011724471098086   \n",
       "555717      555717   2020-12-31 23:59:24     4079773899158   \n",
       "555718      555718   2020-12-31 23:59:34  4170689372027579   \n",
       "\n",
       "                                    merchant        category     amt    first  \\\n",
       "0                      fraud_Kirlin and Sons   personal_care    2.86     Jeff   \n",
       "1                       fraud_Sporer-Keebler   personal_care   29.84   Joanne   \n",
       "2       fraud_Swaniawski, Nitzsche and Welch  health_fitness   41.28   Ashley   \n",
       "3                          fraud_Haley Group        misc_pos   60.05    Brian   \n",
       "4                      fraud_Johnston-Casper          travel    3.19   Nathan   \n",
       "...                                      ...             ...     ...      ...   \n",
       "555714                 fraud_Reilly and Sons  health_fitness   43.77  Michael   \n",
       "555715                  fraud_Hoppe-Parisian       kids_pets  111.84     Jose   \n",
       "555716                       fraud_Rau-Robel       kids_pets   86.88      Ann   \n",
       "555717                 fraud_Breitenberg LLC          travel    7.99     Eric   \n",
       "555718                     fraud_Dare-Marvin   entertainment   38.13   Samuel   \n",
       "\n",
       "            last gender                       street  ...      lat      long  \\\n",
       "0        Elliott      M            351 Darlene Green  ...  33.9659  -80.9355   \n",
       "1       Williams      F             3638 Marsh Union  ...  40.3207 -110.4360   \n",
       "2          Lopez      F         9333 Valentine Point  ...  40.6729  -73.5365   \n",
       "3       Williams      M  32941 Krystal Mill Apt. 552  ...  28.5697  -80.8191   \n",
       "4         Massey      M     5783 Evan Roads Apt. 465  ...  44.2529  -85.0170   \n",
       "...          ...    ...                          ...  ...      ...       ...   \n",
       "555714     Olson      M          558 Michael Estates  ...  40.4931  -91.8912   \n",
       "555715   Vasquez      M          572 Davis Mountains  ...  29.0393  -95.4401   \n",
       "555716    Lawson      F   144 Evans Islands Apt. 683  ...  46.1966 -118.9017   \n",
       "555717   Preston      M   7020 Doyle Stream Apt. 951  ...  44.6255 -116.4493   \n",
       "555718      Frey      M     830 Myers Plaza Apt. 384  ...  35.6665  -97.4798   \n",
       "\n",
       "        city_pop                     job         dob  \\\n",
       "0         333497     Mechanical engineer  1968-03-19   \n",
       "1            302  Sales professional, IT  1990-01-17   \n",
       "2          34496       Librarian, public  1970-10-21   \n",
       "3          54767            Set designer  1987-07-25   \n",
       "4           1126      Furniture designer  1955-07-06   \n",
       "...          ...                     ...         ...   \n",
       "555714       519            Town planner  1966-02-13   \n",
       "555715     28739          Futures trader  1999-12-27   \n",
       "555716      3684                Musician  1981-11-29   \n",
       "555717       129            Cartographer  1965-12-15   \n",
       "555718    116001             Media buyer  1993-05-10   \n",
       "\n",
       "                               trans_num   unix_time  merch_lat  merch_long  \\\n",
       "0       2da90c7d74bd46a0caf3777415b3ebd3  1371816865  33.986391  -81.200714   \n",
       "1       324cc204407e99f51b0d6ca0055005e7  1371816873  39.450498 -109.960431   \n",
       "2       c81755dbbbea9d5c77f094348a7579be  1371816893  40.495810  -74.196111   \n",
       "3       2159175b9efe66dc301f149d3d5abf8c  1371816915  28.812398  -80.883061   \n",
       "4       57ff021bd3f328f8738bb535c302a31b  1371816917  44.959148  -85.884734   \n",
       "...                                  ...         ...        ...         ...   \n",
       "555714  9b1f753c79894c9f4b71f04581835ada  1388534347  39.946837  -91.333331   \n",
       "555715  2090647dac2c89a1d86c514c427f5b91  1388534349  29.661049  -96.186633   \n",
       "555716  6c5b7c8add471975aa0fec023b2e8408  1388534355  46.658340 -119.715054   \n",
       "555717  14392d723bb7737606b2700ac791b7aa  1388534364  44.470525 -117.080888   \n",
       "555718  1765bb45b3aa3224b4cdcb6e7a96cee3  1388534374  36.210097  -97.036372   \n",
       "\n",
       "        is_fraud  \n",
       "0              0  \n",
       "1              0  \n",
       "2              0  \n",
       "3              0  \n",
       "4              0  \n",
       "...          ...  \n",
       "555714         0  \n",
       "555715         0  \n",
       "555716         0  \n",
       "555717         0  \n",
       "555718         0  \n",
       "\n",
       "[555719 rows x 23 columns]"
      ]
     },
     "execution_count": 2,
     "metadata": {},
     "output_type": "execute_result"
    }
   ],
   "source": [
    "df = pd.read_csv(\"/Users/Dhriti/Desktop/fraudTest.csv\")\n",
    "df"
   ]
  },
  {
   "cell_type": "markdown",
   "metadata": {
    "id": "8VsnpGe9-B3p"
   },
   "source": [
    "# 2.) Select four columns to use as features (one just be trans_date_trans)"
   ]
  },
  {
   "cell_type": "code",
   "execution_count": 3,
   "metadata": {
    "id": "1tpCDMW198ym"
   },
   "outputs": [],
   "source": [
    "df_select = df[[\"trans_date_trans_time\", \"category\", \"amt\", \"city_pop\", \"is_fraud\"]]"
   ]
  },
  {
   "cell_type": "code",
   "execution_count": 4,
   "metadata": {
    "colab": {
     "base_uri": "https://localhost:8080/"
    },
    "id": "FZvnpERK981d",
    "outputId": "c4f692bf-a8c9-4469-c616-0cc7af8d7b61"
   },
   "outputs": [
    {
     "data": {
      "text/plain": [
       "Index(['trans_date_trans_time', 'category', 'amt', 'city_pop', 'is_fraud'], dtype='object')"
      ]
     },
     "execution_count": 4,
     "metadata": {},
     "output_type": "execute_result"
    }
   ],
   "source": [
    "df_select.columns"
   ]
  },
  {
   "cell_type": "code",
   "execution_count": 5,
   "metadata": {},
   "outputs": [
    {
     "data": {
      "text/html": [
       "<div>\n",
       "<style scoped>\n",
       "    .dataframe tbody tr th:only-of-type {\n",
       "        vertical-align: middle;\n",
       "    }\n",
       "\n",
       "    .dataframe tbody tr th {\n",
       "        vertical-align: top;\n",
       "    }\n",
       "\n",
       "    .dataframe thead th {\n",
       "        text-align: right;\n",
       "    }\n",
       "</style>\n",
       "<table border=\"1\" class=\"dataframe\">\n",
       "  <thead>\n",
       "    <tr style=\"text-align: right;\">\n",
       "      <th></th>\n",
       "      <th>trans_date_trans_time</th>\n",
       "      <th>category</th>\n",
       "      <th>amt</th>\n",
       "      <th>city_pop</th>\n",
       "      <th>is_fraud</th>\n",
       "    </tr>\n",
       "  </thead>\n",
       "  <tbody>\n",
       "    <tr>\n",
       "      <th>0</th>\n",
       "      <td>2020-06-21 12:14:25</td>\n",
       "      <td>personal_care</td>\n",
       "      <td>2.86</td>\n",
       "      <td>333497</td>\n",
       "      <td>0</td>\n",
       "    </tr>\n",
       "    <tr>\n",
       "      <th>1</th>\n",
       "      <td>2020-06-21 12:14:33</td>\n",
       "      <td>personal_care</td>\n",
       "      <td>29.84</td>\n",
       "      <td>302</td>\n",
       "      <td>0</td>\n",
       "    </tr>\n",
       "    <tr>\n",
       "      <th>2</th>\n",
       "      <td>2020-06-21 12:14:53</td>\n",
       "      <td>health_fitness</td>\n",
       "      <td>41.28</td>\n",
       "      <td>34496</td>\n",
       "      <td>0</td>\n",
       "    </tr>\n",
       "    <tr>\n",
       "      <th>3</th>\n",
       "      <td>2020-06-21 12:15:15</td>\n",
       "      <td>misc_pos</td>\n",
       "      <td>60.05</td>\n",
       "      <td>54767</td>\n",
       "      <td>0</td>\n",
       "    </tr>\n",
       "    <tr>\n",
       "      <th>4</th>\n",
       "      <td>2020-06-21 12:15:17</td>\n",
       "      <td>travel</td>\n",
       "      <td>3.19</td>\n",
       "      <td>1126</td>\n",
       "      <td>0</td>\n",
       "    </tr>\n",
       "    <tr>\n",
       "      <th>...</th>\n",
       "      <td>...</td>\n",
       "      <td>...</td>\n",
       "      <td>...</td>\n",
       "      <td>...</td>\n",
       "      <td>...</td>\n",
       "    </tr>\n",
       "    <tr>\n",
       "      <th>555714</th>\n",
       "      <td>2020-12-31 23:59:07</td>\n",
       "      <td>health_fitness</td>\n",
       "      <td>43.77</td>\n",
       "      <td>519</td>\n",
       "      <td>0</td>\n",
       "    </tr>\n",
       "    <tr>\n",
       "      <th>555715</th>\n",
       "      <td>2020-12-31 23:59:09</td>\n",
       "      <td>kids_pets</td>\n",
       "      <td>111.84</td>\n",
       "      <td>28739</td>\n",
       "      <td>0</td>\n",
       "    </tr>\n",
       "    <tr>\n",
       "      <th>555716</th>\n",
       "      <td>2020-12-31 23:59:15</td>\n",
       "      <td>kids_pets</td>\n",
       "      <td>86.88</td>\n",
       "      <td>3684</td>\n",
       "      <td>0</td>\n",
       "    </tr>\n",
       "    <tr>\n",
       "      <th>555717</th>\n",
       "      <td>2020-12-31 23:59:24</td>\n",
       "      <td>travel</td>\n",
       "      <td>7.99</td>\n",
       "      <td>129</td>\n",
       "      <td>0</td>\n",
       "    </tr>\n",
       "    <tr>\n",
       "      <th>555718</th>\n",
       "      <td>2020-12-31 23:59:34</td>\n",
       "      <td>entertainment</td>\n",
       "      <td>38.13</td>\n",
       "      <td>116001</td>\n",
       "      <td>0</td>\n",
       "    </tr>\n",
       "  </tbody>\n",
       "</table>\n",
       "<p>555719 rows × 5 columns</p>\n",
       "</div>"
      ],
      "text/plain": [
       "       trans_date_trans_time        category     amt  city_pop  is_fraud\n",
       "0        2020-06-21 12:14:25   personal_care    2.86    333497         0\n",
       "1        2020-06-21 12:14:33   personal_care   29.84       302         0\n",
       "2        2020-06-21 12:14:53  health_fitness   41.28     34496         0\n",
       "3        2020-06-21 12:15:15        misc_pos   60.05     54767         0\n",
       "4        2020-06-21 12:15:17          travel    3.19      1126         0\n",
       "...                      ...             ...     ...       ...       ...\n",
       "555714   2020-12-31 23:59:07  health_fitness   43.77       519         0\n",
       "555715   2020-12-31 23:59:09       kids_pets  111.84     28739         0\n",
       "555716   2020-12-31 23:59:15       kids_pets   86.88      3684         0\n",
       "555717   2020-12-31 23:59:24          travel    7.99       129         0\n",
       "555718   2020-12-31 23:59:34   entertainment   38.13    116001         0\n",
       "\n",
       "[555719 rows x 5 columns]"
      ]
     },
     "execution_count": 5,
     "metadata": {},
     "output_type": "execute_result"
    }
   ],
   "source": [
    "df_select"
   ]
  },
  {
   "cell_type": "markdown",
   "metadata": {
    "id": "lbkpNPyN-Gnk"
   },
   "source": [
    "# 3.) Create a your own variable out of trans_date. Create dummies for factor vars"
   ]
  },
  {
   "cell_type": "code",
   "execution_count": 6,
   "metadata": {
    "colab": {
     "base_uri": "https://localhost:8080/"
    },
    "id": "gG88uxbiV4lZ",
    "outputId": "24de8f1f-d3fd-47fc-8a7b-2895f863c75c"
   },
   "outputs": [
    {
     "data": {
      "text/plain": [
       "str"
      ]
     },
     "execution_count": 6,
     "metadata": {},
     "output_type": "execute_result"
    }
   ],
   "source": [
    "type(df_select[\"trans_date_trans_time\"][0])"
   ]
  },
  {
   "cell_type": "code",
   "execution_count": 7,
   "metadata": {},
   "outputs": [],
   "source": [
    "#df_select['time_var'] = pd.to_datetime(df[\"trans_date_trans_time\"]).dt.hour\n",
    "#df_select['time_var'] = [1 if 0<= i <=5 else 0 for i in df_select['time_var']]"
   ]
  },
  {
   "cell_type": "code",
   "execution_count": 8,
   "metadata": {},
   "outputs": [],
   "source": [
    "#to capture of transaction happened on weekend or not\n",
    "df_select['time_var'] = pd.to_datetime(df[\"trans_date_trans_time\"]).dt.dayofweek\n",
    "df_select['time_var'] = [1 if 0<= i <=5 else 0 for i in df_select['time_var']]"
   ]
  },
  {
   "cell_type": "code",
   "execution_count": 9,
   "metadata": {
    "id": "bkfqhq4J99A6"
   },
   "outputs": [],
   "source": [
    "dummies = pd.get_dummies(df_select[\"category\"])\n",
    "x = pd.concat([dummies, df_select[[\"amt\", \"city_pop\",\"time_var\"]]], axis=1)\n",
    "y = df[\"is_fraud\"]"
   ]
  },
  {
   "cell_type": "markdown",
   "metadata": {
    "id": "PeurmqI4-OoC"
   },
   "source": [
    "# 5.) Train a Logistic regression."
   ]
  },
  {
   "cell_type": "code",
   "execution_count": 10,
   "metadata": {},
   "outputs": [],
   "source": [
    "from sklearn.preprocessing import StandardScaler"
   ]
  },
  {
   "cell_type": "code",
   "execution_count": 11,
   "metadata": {},
   "outputs": [],
   "source": [
    "scaler = StandardScaler()\n",
    "x_scaled = scaler.fit_transform(x)"
   ]
  },
  {
   "cell_type": "code",
   "execution_count": 12,
   "metadata": {
    "id": "zwq8KTmsXhFY"
   },
   "outputs": [],
   "source": [
    "from sklearn.linear_model import LogisticRegression"
   ]
  },
  {
   "cell_type": "code",
   "execution_count": 13,
   "metadata": {
    "id": "DjgQ8BQM99WR"
   },
   "outputs": [],
   "source": [
    "log_reg = LogisticRegression().fit(x_scaled, y)"
   ]
  },
  {
   "cell_type": "markdown",
   "metadata": {
    "id": "6isBwtmL-R4p"
   },
   "source": [
    "# 6.) The company you are working for wants to target at a False Positive rate of 5% what threshold should you use? (Use oversampled data)"
   ]
  },
  {
   "cell_type": "code",
   "execution_count": 14,
   "metadata": {
    "id": "9fwAhujT-RN4"
   },
   "outputs": [
    {
     "name": "stdout",
     "output_type": "stream",
     "text": [
      "False Positive Rate: 0.0002836115858042466\n"
     ]
    }
   ],
   "source": [
    "from sklearn.metrics import confusion_matrix\n",
    "\n",
    "# Make predictions\n",
    "y_pred = log_reg.predict(x_scaled)\n",
    "\n",
    "# Get the confusion matrix\n",
    "conf = confusion_matrix(y, y_pred)\n",
    "\n",
    "# Calculate the false positive rate (fpr = false positives / (true negatives + false positives))\n",
    "fpr = conf[0,1] / (conf[0,0] + conf[0,1])\n",
    "\n",
    "# Print the false positive rate\n",
    "print(\"False Positive Rate:\", fpr)\n"
   ]
  },
  {
   "cell_type": "markdown",
   "metadata": {
    "id": "POIuy3rH-RQv"
   },
   "source": [
    "A low False Positive Rate is good as we do not want to flag non-fraudulent transactions."
   ]
  },
  {
   "cell_type": "code",
   "execution_count": 15,
   "metadata": {},
   "outputs": [],
   "source": [
    "#But, if my FPR was higher and the company wanted to target a 5% FPR, \n",
    "#the loop below could be used to find the classification threshold that we could use to get a 5% FPR."
   ]
  },
  {
   "cell_type": "code",
   "execution_count": 16,
   "metadata": {
    "id": "g14fgEkT-RTV"
   },
   "outputs": [
    {
     "name": "stdout",
     "output_type": "stream",
     "text": [
      "Optimal threshold: 0.03\n"
     ]
    }
   ],
   "source": [
    "y_probs = log_reg.predict_proba(x_scaled)[:,1]\n",
    "\n",
    "# Define the desired false positive rate\n",
    "desired_fpr = 0.05\n",
    "\n",
    "# Initialize the threshold\n",
    "threshold = 0\n",
    "\n",
    "# Initialize the f1_score\n",
    "best_f1 = -1\n",
    "\n",
    "for t in np.arange(0,1,0.01):\n",
    "    y_pred = y_probs > t\n",
    "    fpr = confusion_matrix(y, y_pred)[0,1] / (confusion_matrix(y, y_pred)[0,0] + confusion_matrix(y, y_pred)[0,1])\n",
    "    if fpr <= desired_fpr:\n",
    "        f1 = f1_score(y, y_pred)\n",
    "        if f1>best_f1:\n",
    "            best_f1 = f1\n",
    "            threshold = t\n",
    "\n",
    "# Make predictions using the optimal threshold\n",
    "y_pred = (y_probs > threshold).astype(int)\n",
    "\n",
    "print(\"Optimal threshold:\", threshold)"
   ]
  },
  {
   "cell_type": "markdown",
   "metadata": {
    "id": "aQa3sanl-XUk"
   },
   "source": [
    "# 7.) Now, let us assume the Credit Card provider makes .02 on True transactions and loses -1 on False transactions."
   ]
  },
  {
   "cell_type": "code",
   "execution_count": 17,
   "metadata": {
    "id": "vVaHpqf9wHj7"
   },
   "outputs": [
    {
     "data": {
      "text/plain": [
       "array([[552033,   1541],\n",
       "       [  1393,    752]])"
      ]
     },
     "execution_count": 17,
     "metadata": {},
     "output_type": "execute_result"
    }
   ],
   "source": [
    "conf = confusion_matrix(y, y_pred)\n",
    "conf"
   ]
  },
  {
   "cell_type": "code",
   "execution_count": 18,
   "metadata": {
    "id": "YphNDj12aFhP"
   },
   "outputs": [
    {
     "name": "stdout",
     "output_type": "stream",
     "text": [
      "Total gain/loss to the company 8121.700000000001\n"
     ]
    }
   ],
   "source": [
    "gain = 0.02*(conf[0,0] + conf[1,1])\n",
    "loss = -1*(conf[0,1] + conf[1,0])\n",
    "total = gain + loss\n",
    "print(\"Total gain/loss to the company\", total)\n"
   ]
  },
  {
   "cell_type": "markdown",
   "metadata": {
    "id": "qrlSpvEh-awn"
   },
   "source": [
    "# 8.) Using Logistic Regression Lasso to inform you. Would you use the selected features in a trusted prediction model?"
   ]
  },
  {
   "cell_type": "code",
   "execution_count": 19,
   "metadata": {
    "id": "-R3BOgcy-RfD"
   },
   "outputs": [],
   "source": [
    "from sklearn.linear_model import LassoCV"
   ]
  },
  {
   "cell_type": "code",
   "execution_count": 20,
   "metadata": {},
   "outputs": [],
   "source": [
    "logreg_lasso = LogisticRegression(penalty='l1', solver='liblinear')\n",
    "\n",
    "# Fit the model\n",
    "logreg_lasso.fit(x_scaled, y)\n",
    "\n",
    "# Make predictions\n",
    "y_pred1 = logreg_lasso.predict(x_scaled)"
   ]
  },
  {
   "cell_type": "code",
   "execution_count": 21,
   "metadata": {},
   "outputs": [],
   "source": [
    "pred_coeffs = logreg_lasso.coef_"
   ]
  },
  {
   "cell_type": "code",
   "execution_count": 22,
   "metadata": {},
   "outputs": [
    {
     "data": {
      "text/plain": [
       "array([-0.06870237, -0.07658793,  0.1064071 ,  0.02373371,  0.4294619 ,\n",
       "       -0.06888362, -0.11336804, -0.09716366,  0.32445759,  0.        ,\n",
       "       -0.0100072 ,  0.4084087 ,  0.10282684, -0.91706045,  0.32969397,\n",
       "       -0.1216851 , -0.02141455])"
      ]
     },
     "execution_count": 22,
     "metadata": {},
     "output_type": "execute_result"
    }
   ],
   "source": [
    "pred_coeffs[0]\n"
   ]
  },
  {
   "cell_type": "code",
   "execution_count": 23,
   "metadata": {},
   "outputs": [],
   "source": [
    "#getting the name of columns for plotting\n",
    "coeffs = (x.columns)"
   ]
  },
  {
   "cell_type": "code",
   "execution_count": 24,
   "metadata": {},
   "outputs": [
    {
     "data": {
      "image/png": "[encoded data removed]",
      "text/plain": [
       "<Figure size 2000x500 with 1 Axes>"
      ]
     },
     "metadata": {},
     "output_type": "display_data"
    }
   ],
   "source": [
    "plt.figure(figsize = (20,5))\n",
    "plt.bar(coeffs, pred_coeffs[0])\n",
    "plt.axhline(0, color = \"red\")\n",
    "plt.title(\"Visualising the Coefficients from Lasso Regression\")\n",
    "plt.xlabel(\"Beta\")\n",
    "plt.ylabel(\"Coefficient Value\")\n",
    "plt.show()"
   ]
  },
  {
   "cell_type": "markdown",
   "metadata": {},
   "source": [
    "From the above graph shows that most of the chosen predictor values are significant in predicting the fraud class of each transaction. Variables  such as perhaps 'grocery_net', 'misc_pos', and 'personal_care' have coefficient value reduce to 0 indicating that they are not siginificant and would not be selected features in a trusted pedicted regression model.Cross validation and bootstrapping methods can be used to selection process of variable selection."
   ]
  }
 ],
 "metadata": {
  "colab": {
   "provenance": []
  },
  "kernelspec": {
   "display_name": "Python 3 (ipykernel)",
   "language": "python",
   "name": "python3"
  },
  "language_info": {
   "codemirror_mode": {
    "name": "ipython",
    "version": 3
   },
   "file_extension": ".py",
   "mimetype": "text/x-python",
   "name": "python",
   "nbconvert_exporter": "python",
   "pygments_lexer": "ipython3",
   "version": "3.9.13"
  }
 },
 "nbformat": 4,
 "nbformat_minor": 1
}
